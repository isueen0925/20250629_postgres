{
 "cells": [
  {
   "cell_type": "markdown",
   "id": "4e05fe41",
   "metadata": {},
   "source": [
    "### 自訂function(函式)"
   ]
  },
  {
   "cell_type": "code",
   "execution_count": 2,
   "id": "e0050ba1",
   "metadata": {},
   "outputs": [
    {
     "name": "stdout",
     "output_type": "stream",
     "text": [
      "Hello, Wordl!\n"
     ]
    }
   ],
   "source": [
    "#定義一個函式\n",
    "def sayHello():\n",
    "    print(\"Hello, Wordl!\")\n",
    "\n",
    "sayHello()"
   ]
  },
  {
   "cell_type": "code",
   "execution_count": 3,
   "id": "55d523b4",
   "metadata": {},
   "outputs": [
    {
     "name": "stdout",
     "output_type": "stream",
     "text": [
      "Hello! Rober\n"
     ]
    }
   ],
   "source": [
    "#定義一個函式\n",
    "def say_hello(name):\n",
    "    print(\"Hello!\", name)\n",
    "\n",
    "say_hello(\"Rober\")"
   ]
  },
  {
   "cell_type": "code",
   "execution_count": 4,
   "id": "96ed1198",
   "metadata": {},
   "outputs": [
    {
     "name": "stdout",
     "output_type": "stream",
     "text": [
      "hello, Alice!\n"
     ]
    }
   ],
   "source": [
    "#寫一個函式，輸入名字，輸出 Hello, 名字\n",
    "def greet(name):\n",
    "    print(f\"hello, {name}!\")\n",
    "\n",
    "greet(\"Alice\")"
   ]
  },
  {
   "cell_type": "code",
   "execution_count": null,
   "id": "d448669a",
   "metadata": {},
   "outputs": [
    {
     "data": {
      "text/plain": [
       "'========================================'"
      ]
     },
     "execution_count": 5,
     "metadata": {},
     "output_type": "execute_result"
    }
   ],
   "source": [
    "#str concatnate(連結)\n",
    "\"Alice\" +\" 您好\"\n",
    "\"=\" * 40"
   ]
  },
  {
   "cell_type": "code",
   "execution_count": 7,
   "id": "c4905259",
   "metadata": {},
   "outputs": [
    {
     "name": "stdout",
     "output_type": "stream",
     "text": [
      "蘋果: 5\n"
     ]
    },
    {
     "data": {
      "text/plain": [
       "'蘋果:5'"
      ]
     },
     "execution_count": 7,
     "metadata": {},
     "output_type": "execute_result"
    }
   ],
   "source": [
    "apple = 5\n",
    "print(\"蘋果:\",apple)\n",
    "f\"蘋果:{apple}\""
   ]
  },
  {
   "cell_type": "code",
   "execution_count": 27,
   "id": "a4909222",
   "metadata": {},
   "outputs": [
    {
     "data": {
      "text/plain": [
       "55"
      ]
     },
     "execution_count": 27,
     "metadata": {},
     "output_type": "execute_result"
    }
   ],
   "source": [
    "#建立一個函式，傳入一個數字串列，回傳總和\n",
    "def sum_numbers(numbers):\n",
    "    total = 0\n",
    "    for number in numbers:\n",
    "        total += number\n",
    "    return total\n",
    "\n",
    "sum_numbers([1,2,3,4,5,6,7,8,9,10])"
   ]
  },
  {
   "cell_type": "code",
   "execution_count": 23,
   "id": "a9eb449c",
   "metadata": {},
   "outputs": [
    {
     "data": {
      "text/plain": [
       "15"
      ]
     },
     "execution_count": 23,
     "metadata": {},
     "output_type": "execute_result"
    }
   ],
   "source": [
    "#複合指定運算子\n",
    "n = 5\n",
    "n += 10    #等同 n = n + 5\n",
    "n"
   ]
  },
  {
   "cell_type": "code",
   "execution_count": 25,
   "id": "8e0a9d7e",
   "metadata": {},
   "outputs": [
    {
     "data": {
      "text/plain": [
       "50"
      ]
     },
     "execution_count": 25,
     "metadata": {},
     "output_type": "execute_result"
    }
   ],
   "source": [
    "#複合指定運算子\n",
    "n = 5\n",
    "n *= 10    #等同 n = n * 5\n",
    "n"
   ]
  },
  {
   "cell_type": "code",
   "execution_count": 29,
   "id": "25ab4b61",
   "metadata": {},
   "outputs": [
    {
     "data": {
      "text/plain": [
       "False"
      ]
     },
     "execution_count": 29,
     "metadata": {},
     "output_type": "execute_result"
    }
   ],
   "source": [
    "5 > 3\n",
    "5 == 5\n",
    "5 != 5"
   ]
  },
  {
   "cell_type": "code",
   "execution_count": 32,
   "id": "040b57cc",
   "metadata": {},
   "outputs": [
    {
     "name": "stdout",
     "output_type": "stream",
     "text": [
      "True\n",
      "False\n"
     ]
    }
   ],
   "source": [
    "#定義一個函式，輸入一個整數，回傳是否為偶數 (True/False)\n",
    "def is_even(n):\n",
    "    return n % 2 == 0\n",
    "\n",
    "#測試函式\n",
    "print(is_even(4)) # True\n",
    "print(is_even(5)) # False"
   ]
  }
 ],
 "metadata": {
  "kernelspec": {
   "display_name": "pydev",
   "language": "python",
   "name": "python3"
  },
  "language_info": {
   "codemirror_mode": {
    "name": "ipython",
    "version": 3
   },
   "file_extension": ".py",
   "mimetype": "text/x-python",
   "name": "python",
   "nbconvert_exporter": "python",
   "pygments_lexer": "ipython3",
   "version": "3.10.18"
  }
 },
 "nbformat": 4,
 "nbformat_minor": 5
}
