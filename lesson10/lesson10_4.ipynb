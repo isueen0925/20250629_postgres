{
 "cells": [
  {
   "cell_type": "code",
   "execution_count": 1,
   "id": "ccc9caaa",
   "metadata": {},
   "outputs": [
    {
     "ename": "ModuleNotFoundError",
     "evalue": "No module named 'psycopg2'",
     "output_type": "error",
     "traceback": [
      "\u001b[0;31m---------------------------------------------------------------------------\u001b[0m",
      "\u001b[0;31mModuleNotFoundError\u001b[0m                       Traceback (most recent call last)",
      "Cell \u001b[0;32mIn[1], line 1\u001b[0m\n\u001b[0;32m----> 1\u001b[0m \u001b[38;5;28;01mimport\u001b[39;00m\u001b[38;5;250m \u001b[39m\u001b[38;5;21;01mpsycopg2\u001b[39;00m\n\u001b[1;32m      2\u001b[0m \u001b[38;5;28;01mfrom\u001b[39;00m\u001b[38;5;250m \u001b[39m\u001b[38;5;21;01mdotenv\u001b[39;00m\u001b[38;5;250m \u001b[39m\u001b[38;5;28;01mimport\u001b[39;00m load_dotenv\n\u001b[1;32m      3\u001b[0m \u001b[38;5;28;01mimport\u001b[39;00m\u001b[38;5;250m \u001b[39m\u001b[38;5;21;01mos\u001b[39;00m\n",
      "\u001b[0;31mModuleNotFoundError\u001b[0m: No module named 'psycopg2'"
     ]
    }
   ],
   "source": [
    "import psycopg2\n",
    "from dotenv import load_dotenv\n",
    "import os\n",
    "load_dotenv()\n",
    "\n",
    "def get_stations_names():\n",
    "    \"\"\"\n",
    "    取得台鐵車站名稱列表\n",
    "    :return: 台鐵車站名稱列表，連線失敗時回傳 None\n",
    "    \"\"\"\n",
    "    try:\n",
    "        conn = psycopg2.connect(\n",
    "            host=os.getenv(\"HOST\"),\n",
    "            database=os.getenv(\"DATABASE\"),\n",
    "            user=os.getenv(\"USER\"),\n",
    "            password=os.getenv(\"PASSWORD\"),\n",
    "            port=\"5432\"\n",
    "        )\n",
    "\n",
    "        cursor = conn.cursor()\n",
    "        query = \"\"\"\n",
    "        SELECT name\n",
    "        FROM \"台鐵車站資訊\";\n",
    "        \"\"\"\n",
    "        cursor.execute(query)\n",
    "        result = cursor.fetchall()\n",
    "\n",
    "        # 使用 list comprehension 簡化程式碼\n",
    "        result_list = [station[0] for station in result]\n",
    "\n",
    "        return result_list\n",
    "\n",
    "    except psycopg2.Error as e:\n",
    "        print(f\"資料庫連線或查詢失敗：{e}\")\n",
    "        return None\n",
    "    except Exception as e:\n",
    "        print(f\"發生未預期的錯誤：{e}\")\n",
    "        return None\n",
    "    finally:\n",
    "        # 確保資源正確釋放\n",
    "        if 'cursor' in locals():\n",
    "            cursor.close()\n",
    "        if 'conn' in locals():\n",
    "            conn.close()\n",
    "\n",
    "\n",
    "def main():\n",
    "    results = get_stations_names()\n",
    "    if results:\n",
    "        for station in results:\n",
    "            print(station)\n",
    "    else:\n",
    "        print(\"無法取得車站資料\")\n",
    "\n",
    "if __name__ == \"__main__\":\n",
    "    main()"
   ]
  }
 ],
 "metadata": {
  "kernelspec": {
   "display_name": "pydev",
   "language": "python",
   "name": "python3"
  },
  "language_info": {
   "codemirror_mode": {
    "name": "ipython",
    "version": 3
   },
   "file_extension": ".py",
   "mimetype": "text/x-python",
   "name": "python",
   "nbconvert_exporter": "python",
   "pygments_lexer": "ipython3",
   "version": "3.10.18"
  }
 },
 "nbformat": 4,
 "nbformat_minor": 5
}
